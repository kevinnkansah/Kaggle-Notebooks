{
  "nbformat": 4,
  "nbformat_minor": 0,
  "metadata": {
    "colab": {
      "provenance": [],
      "include_colab_link": true
    },
    "kernelspec": {
      "name": "python3",
      "display_name": "Python 3"
    },
    "language_info": {
      "name": "python"
    }
  },
  "cells": [
    {
      "cell_type": "markdown",
      "metadata": {
        "id": "view-in-github",
        "colab_type": "text"
      },
      "source": [
        "<a href=\"https://colab.research.google.com/github/kevinnkansah/Kaggle-Notebooks/blob/main/DATA_CLEANING.ipynb\" target=\"_parent\"><img src=\"https://colab.research.google.com/assets/colab-badge.svg\" alt=\"Open In Colab\"/></a>"
      ]
    },
    {
      "cell_type": "markdown",
      "source": [
        "### Downloading Data"
      ],
      "metadata": {
        "id": "K0YwaqjvdoJJ"
      }
    },
    {
      "cell_type": "code",
      "source": [
        "import pandas as pd\n",
        "import matplotlib.pyplot as plt\n",
        "import numpy as np\n",
        "import seaborn as sns\n",
        "import os\n",
        "import zipfile\n",
        "from wordcloud import WordCloud\n",
        "from collections import Counter\n",
        "import gc"
      ],
      "metadata": {
        "id": "nEi5pc5pd9bj"
      },
      "execution_count": null,
      "outputs": []
    },
    {
      "cell_type": "code",
      "execution_count": null,
      "metadata": {
        "id": "h_U_MxmKblmh",
        "colab": {
          "base_uri": "https://localhost:8080/"
        },
        "outputId": "99ecc78c-b4ae-4c72-cd2b-fa17ef453216"
      },
      "outputs": [
        {
          "output_type": "stream",
          "name": "stdout",
          "text": [
            "--2024-08-09 18:24:00--  http://sdcdata.dirisa.ac.za/index.php/s/LS64EmGLP8Hpj7G/download\n",
            "Resolving sdcdata.dirisa.ac.za (sdcdata.dirisa.ac.za)... 154.114.57.157\n",
            "Connecting to sdcdata.dirisa.ac.za (sdcdata.dirisa.ac.za)|154.114.57.157|:80... connected.\n",
            "HTTP request sent, awaiting response... 307 Temporary Redirect\n",
            "Location: https://sdcdata.dirisa.ac.za/index.php/s/LS64EmGLP8Hpj7G/download [following]\n",
            "--2024-08-09 18:24:00--  https://sdcdata.dirisa.ac.za/index.php/s/LS64EmGLP8Hpj7G/download\n",
            "Connecting to sdcdata.dirisa.ac.za (sdcdata.dirisa.ac.za)|154.114.57.157|:443... connected.\n",
            "HTTP request sent, awaiting response... 200 OK\n",
            "Length: unspecified [application/zip]\n",
            "Saving to: ‘data.zip’\n",
            "\n",
            "data.zip                [         <=>        ] 768.78M  12.8MB/s    in 69s     \n",
            "\n",
            "2024-08-09 18:25:10 (11.2 MB/s) - ‘data.zip’ saved [806121888]\n",
            "\n"
          ]
        }
      ],
      "source": [
        "# !wget http://sdcdata.dirisa.ac.za/index.php/s/LS64EmGLP8Hpj7G/download -O data.zip"
      ]
    },
    {
      "cell_type": "code",
      "source": [
        "# zip_file_path = '/content/data.zip'\n",
        "# extract_dir = '/content/data/'\n",
        "\n",
        "# if not os.path.exists(extract_dir):\n",
        "#     os.makedirs(extract_dir)\n",
        "#     print(f'Directory created: {extract_dir}')\n",
        "# else:\n",
        "#     print(f'Directory already exists: {extract_dir}')\n",
        "# with zipfile.ZipFile(zip_file_path, 'r') as zip_ref:\n",
        "#     zip_ref.extractall(extract_dir)\n",
        "\n",
        "# print(f'Files extracted to {extract_dir}')\n",
        "\n",
        "# file_path = '/content/data.zip'\n",
        "\n",
        "# if os.path.exists(file_path):\n",
        "#     os.remove(file_path)\n",
        "#     print(f'{file_path} has been deleted')\n",
        "# else:\n",
        "#     print(f'The file {file_path} does not exist')\n"
      ],
      "metadata": {
        "id": "dowVq0GYfBrL",
        "colab": {
          "base_uri": "https://localhost:8080/"
        },
        "outputId": "80b6593b-1763-4731-d4db-d342ac31a3e7"
      },
      "execution_count": null,
      "outputs": [
        {
          "output_type": "stream",
          "name": "stdout",
          "text": [
            "Directory already exists: /content/data/\n",
            "Files extracted to /content/data/\n",
            "/content/data.zip has been deleted\n"
          ]
        }
      ]
    },
    {
      "cell_type": "markdown",
      "source": [
        "### Data Reading"
      ],
      "metadata": {
        "id": "LGx-GF4stkWQ"
      }
    },
    {
      "cell_type": "code",
      "source": [
        "dfs = {}\n",
        "\n",
        "for idx, path in enumerate(os.listdir('/content/data/Team Qualifier Dataset and Document/')):\n",
        "    if \"ghs\" in path:\n",
        "        dfs[idx] = pd.read_csv(f'/content/data/Team Qualifier Dataset and Document/{path}', encoding=\"ISO-8859-1\", low_memory=False)\n",
        "        print(f\"Loaded\", path)"
      ],
      "metadata": {
        "id": "5v3skGdNg2B-",
        "colab": {
          "base_uri": "https://localhost:8080/"
        },
        "outputId": "6ffd9c23-174f-47db-9728-94a4cca159a9"
      },
      "execution_count": null,
      "outputs": [
        {
          "output_type": "stream",
          "name": "stdout",
          "text": [
            "Loaded ghs-2021-person-v1.csv\n",
            "Loaded ghs-2014-person-v1.csv\n",
            "Loaded ghs-2022-person-v1.csv\n",
            "Loaded ghs-2019-person-v1.csv\n",
            "Loaded ghs-2015-person-v1.csv\n",
            "Loaded ghs-2020-person-v1.csv\n",
            "Loaded ghs-2017-person-1.0.csv\n",
            "Loaded ghs-2016-person-v1.csv\n",
            "Loaded ghs-2018-person-v1.csv\n",
            "Loaded ghs-2013-person-v1.csv\n",
            "Loaded ghs-2012-person-v2.1.csv\n"
          ]
        }
      ]
    },
    {
      "cell_type": "code",
      "source": [
        "# @title\n",
        "# items_dfs = list(dfs.items())\n",
        "# # print(dfs)\n",
        "# new_dfs = []\n",
        "# for name, df in items_dfs:\n",
        "#     year = name[4:8]\n",
        "#     # print(year)\n",
        "#     df['year'] = int(year)\n",
        "#     new_dfs.append(df)\n",
        "\n",
        "# full_dfs = pd.concat(new_dfs, ignore_index=True)"
      ],
      "metadata": {
        "id": "YLWkwo-JiWwP",
        "cellView": "form"
      },
      "execution_count": null,
      "outputs": []
    },
    {
      "cell_type": "code",
      "source": [
        "all_column_names = list()\n",
        "\n",
        "for idx, df in dfs.items():\n",
        "    for col in df.columns:\n",
        "        all_column_names.append(col.lower())"
      ],
      "metadata": {
        "id": "B_igt7RSioa4"
      },
      "execution_count": null,
      "outputs": []
    },
    {
      "cell_type": "code",
      "source": [
        "for idx, dataframe in dfs.items():\n",
        "    dataframe.columns = dataframe.columns.str.lower() #This make every column name lower case(inplace)"
      ],
      "metadata": {
        "id": "Cvd77PWJ8h__"
      },
      "execution_count": null,
      "outputs": []
    },
    {
      "cell_type": "code",
      "source": [
        "columns_names = \" \".join(all_column_names)\n",
        "wordcloud = WordCloud().generate(columns_names)\n",
        "plt.figure(figsize=(10, 6), dpi=500)\n",
        "plt.imshow(wordcloud, interpolation=\"bilinear\")\n",
        "plt.axis(\"off\")\n",
        "plt.title(\"Wordcloud showing the most common columns across all of 11 dataframes\")\n",
        "plt.show()"
      ],
      "metadata": {
        "id": "reNknFVrsmzv"
      },
      "execution_count": null,
      "outputs": []
    },
    {
      "cell_type": "markdown",
      "source": [],
      "metadata": {
        "id": "wwrcFCYSsNvS"
      }
    },
    {
      "cell_type": "code",
      "source": [
        "column_freq = Counter(all_column_names)\n",
        "column_freq = dict(sorted(column_freq.items(), key=lambda item: item[1], reverse=True))\n",
        "columns_df = pd.DataFrame.from_dict(column_freq, orient='index', columns=[\"Frequency of column names\"])\n",
        "\n",
        "COLUMNS_FREQ = 5 # Adjust to make the plots more/less verbose\n",
        "\n",
        "amount_of_data_to_use = columns_df[columns_df['Frequency of column names'] >= COLUMNS_FREQ]"
      ],
      "metadata": {
        "id": "82Ceo5H1vLby"
      },
      "execution_count": null,
      "outputs": []
    },
    {
      "cell_type": "code",
      "source": [
        "sns.barplot(columns_df.groupby(columns_df['Frequency of column names']).size(), color=sns.color_palette(\"Set1\")[2])\n",
        "plt.title(\"Appearance of Unique Columns in the dataset\")\n",
        "plt.show()"
      ],
      "metadata": {
        "id": "BKOUIMBB1BKY"
      },
      "execution_count": null,
      "outputs": []
    },
    {
      "cell_type": "code",
      "source": [
        "plt.figure(figsize=(10, 25))\n",
        "sns.barplot(data=amount_of_data_to_use,\n",
        "            x=amount_of_data_to_use[\"Frequency of column names\"],\n",
        "            y=amount_of_data_to_use.index,\n",
        "            palette=sns.color_palette('Set3'),\n",
        "            hue=amount_of_data_to_use[\"Frequency of column names\"],\n",
        "            orient='h')\n",
        "plt.title(\"Appearance of Unique Columns in the dataset (Detailed)\")\n",
        "plt.show()"
      ],
      "metadata": {
        "id": "Sd0ZJVTRzV5x"
      },
      "execution_count": null,
      "outputs": []
    },
    {
      "cell_type": "code",
      "source": [
        "print(\"Column names(Not unique): \", len(all_column_names))\n",
        "all_column_names_unique = list(set(all_column_names))\n",
        "print(\"Column names(Unique): \", len(all_column_names_unique))"
      ],
      "metadata": {
        "id": "eTbyy9U7pvg4"
      },
      "execution_count": null,
      "outputs": []
    },
    {
      "cell_type": "code",
      "source": [
        "df_list = list()\n",
        "\n",
        "for items in dfs.items():\n",
        "  for i in items:\n",
        "    if type(i) == pd.DataFrame:\n",
        "      df_list.append(i)\n",
        "    else:\n",
        "      pass\n"
      ],
      "metadata": {
        "id": "_5za9EmY7_GC"
      },
      "execution_count": null,
      "outputs": []
    },
    {
      "cell_type": "code",
      "source": [
        "del df_list\n",
        "del dfs\n",
        "del items\n",
        "del i\n",
        "del dataframe\n",
        "\n",
        "gc.collect()"
      ],
      "metadata": {
        "id": "2orfPnDsWSyR"
      },
      "execution_count": null,
      "outputs": []
    },
    {
      "cell_type": "code",
      "source": [
        "df_all_col = pd.concat(df_list, ignore_index=True)\n",
        "df = df_all_col[amount_of_data_to_use.index]"
      ],
      "metadata": {
        "id": "3804TCmn7-_Z"
      },
      "execution_count": null,
      "outputs": []
    },
    {
      "cell_type": "code",
      "source": [
        "print(\"Hello world\")"
      ],
      "metadata": {
        "id": "aqzgWQ3h7-5Z",
        "colab": {
          "base_uri": "https://localhost:8080/"
        },
        "outputId": "684665e9-d60d-4ec7-879f-c59dc5c65d9d"
      },
      "execution_count": null,
      "outputs": [
        {
          "output_type": "stream",
          "name": "stdout",
          "text": [
            "Hello world\n"
          ]
        }
      ]
    },
    {
      "cell_type": "code",
      "source": [],
      "metadata": {
        "id": "Lf8pbOmeZ6i0"
      },
      "execution_count": null,
      "outputs": []
    }
  ]
}